{
 "cells": [
  {
   "cell_type": "code",
   "execution_count": 13,
   "id": "84fca3c1-8520-4390-b3d8-a739893a3d25",
   "metadata": {},
   "outputs": [],
   "source": [
    "#!pip install langchain\n",
    "#!pip install openai\n",
    "#pip install PyPDF2\n",
    "#pip install faiss-cpu\n",
    "#pip install tiktoken"
   ]
  },
  {
   "cell_type": "code",
   "execution_count": 14,
   "id": "f8167d81-3e3b-40b9-8ca2-26bbae30e214",
   "metadata": {},
   "outputs": [],
   "source": [
    "#!pip install -U langchain-community"
   ]
  },
  {
   "cell_type": "code",
   "execution_count": 15,
   "id": "20893682-e3de-4618-b1ed-fcf8020d4404",
   "metadata": {},
   "outputs": [],
   "source": [
    "#!pip install -U langchain-openai"
   ]
  },
  {
   "cell_type": "code",
   "execution_count": 4,
   "id": "98659d1e-e822-448f-9c8a-d012d44f3e8c",
   "metadata": {},
   "outputs": [],
   "source": [
    "from PyPDF2 import PdfReader\n",
    "from langchain.vectorstores import ElasticVectorSearch, Pinecone, Weaviate, FAISS\n",
    "from langchain.embeddings.openai import OpenAIEmbeddings\n",
    "from langchain.text_splitter import CharacterTextSplitter, RecursiveCharacterTextSplitter\n",
    "import os\n",
    "from langchain.chains.question_answering import load_qa_chain\n",
    "from langchain.llms import OpenAI\n",
    "from langchain_openai import OpenAIEmbeddings\n",
    "from langchain_openai import OpenAI"
   ]
  },
  {
   "cell_type": "code",
   "execution_count": 5,
   "id": "8d9b78ed-4cb4-428a-b4b4-2f512384aded",
   "metadata": {},
   "outputs": [],
   "source": [
    "# Get your API keys from Openai, you will need to create an account.\n",
    "import os\n",
    "os.environ[\"OPENAI_API_KEY\"] = \"YOUR OPENAI API KEY\""
   ]
  },
  {
   "cell_type": "code",
   "execution_count": 6,
   "id": "6d1f9e25-12f4-4e91-b23c-670a8a2d68fa",
   "metadata": {},
   "outputs": [],
   "source": [
    "# read in your pdf file\n",
    "pdf_reader = PdfReader('YOUR PDF NAME')"
   ]
  },
  {
   "cell_type": "code",
   "execution_count": 7,
   "id": "ae50364e-16e1-418a-991e-550c5556174a",
   "metadata": {},
   "outputs": [],
   "source": [
    "# read data from the file and put them into a variable called text\n",
    "text = ''\n",
    "for i, page in enumerate(pdf_reader.pages):\n",
    "    temptext = page.extract_text()\n",
    "    if temptext:\n",
    "        text += temptext"
   ]
  },
  {
   "cell_type": "code",
   "execution_count": 8,
   "id": "fda1bad5-f871-4ffa-9aa3-e98abf4baaff",
   "metadata": {},
   "outputs": [],
   "source": [
    "text_splitter = RecursiveCharacterTextSplitter( chunk_size = 512, chunk_overlap  = 32, length_function = len)\n",
    "texts = text_splitter.split_text(text)"
   ]
  },
  {
   "cell_type": "code",
   "execution_count": 9,
   "id": "930fc12e-2053-411e-9a28-1108f90af1ea",
   "metadata": {},
   "outputs": [],
   "source": [
    "# Download embeddings from OpenAI\n",
    "embeddings = OpenAIEmbeddings()"
   ]
  },
  {
   "cell_type": "code",
   "execution_count": 10,
   "id": "b893d21d-7289-4a70-9c24-da525d45bb85",
   "metadata": {},
   "outputs": [],
   "source": [
    "docsearch = FAISS.from_texts(texts, embeddings)"
   ]
  },
  {
   "cell_type": "code",
   "execution_count": 11,
   "id": "a9a6de73-c644-4b7e-ae1a-120eb6212ffb",
   "metadata": {},
   "outputs": [],
   "source": [
    "#!pip install -U langchain-openai"
   ]
  },
  {
   "cell_type": "code",
   "execution_count": 12,
   "id": "3f27b634-6dac-41e0-90ee-6fa0612d4e76",
   "metadata": {},
   "outputs": [],
   "source": [
    "chain = load_qa_chain(OpenAI(), chain_type=\"stuff\")"
   ]
  },
  {
   "cell_type": "code",
   "execution_count": null,
   "id": "59580993-d770-48a1-8215-fafcb7b63463",
   "metadata": {},
   "outputs": [],
   "source": [
    "while True:\n",
    "    # Prompt the user for a query\n",
    "    query = input(\"Enter your query (or type 'exit' to quit): \")\n",
    "\n",
    "    # Check if the user wants to exit the loop\n",
    "    if query.lower() == 'exit':\n",
    "        print(\"Exiting the loop. Goodbye!\")\n",
    "        break\n",
    "\n",
    "    # Perform the similarity search\n",
    "    docs = docsearch.similarity_search(query)\n",
    "\n",
    "    # Run the chain with the retrieved documents and the query\n",
    "    result = chain.run(input_documents=docs, question=query)\n",
    "\n",
    "    # Print the result\n",
    "    print(\"Result:\", result)"
   ]
  }
 ],
 "metadata": {
  "kernelspec": {
   "display_name": "Python 3 (ipykernel)",
   "language": "python",
   "name": "python3"
  },
  "language_info": {
   "codemirror_mode": {
    "name": "ipython",
    "version": 3
   },
   "file_extension": ".py",
   "mimetype": "text/x-python",
   "name": "python",
   "nbconvert_exporter": "python",
   "pygments_lexer": "ipython3",
   "version": "3.11.7"
  }
 },
 "nbformat": 4,
 "nbformat_minor": 5
}
